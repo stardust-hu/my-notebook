{
 "cells": [
  {
   "cell_type": "markdown",
   "metadata": {},
   "source": [
    "# 说说数据分析\n",
    "\n",
    "在之前的QQ空间说说抓取中，只抓到发布说说的时间和说说内容，没有抓取相关的评论\n",
    "\n",
    "所以暂时能分析发布说说的时间规律，也可以对内容进行分析，推测当时的情感，这需要NPL，不会/(ㄒoㄒ)/~~，跳过。。。\n",
    "\n",
    "下面就针对的是时间规律方面在统计上的可视化分析"
   ]
  },
  {
   "cell_type": "code",
   "execution_count": 1,
   "metadata": {
    "collapsed": true
   },
   "outputs": [],
   "source": [
    "import pandas as pd\n",
    "import matplotlib.pyplot as plt\n",
    "import datetime\n",
    "%matplotlib inline"
   ]
  },
  {
   "cell_type": "markdown",
   "metadata": {},
   "source": [
    "### 读取下载到的说说数据\n",
    "\n",
    "暂时使用老王的说说数据，对就那个隔壁的老王"
   ]
  },
  {
   "cell_type": "code",
   "execution_count": 2,
   "metadata": {
    "collapsed": false
   },
   "outputs": [
    {
     "data": {
      "text/html": [
       "<div>\n",
       "<table border=\"1\" class=\"dataframe\">\n",
       "  <thead>\n",
       "    <tr style=\"text-align: right;\">\n",
       "      <th></th>\n",
       "      <th>unix_time</th>\n",
       "      <th>time</th>\n",
       "      <th>text</th>\n",
       "    </tr>\n",
       "  </thead>\n",
       "  <tbody>\n",
       "    <tr>\n",
       "      <th>0</th>\n",
       "      <td>1441077656</td>\n",
       "      <td>2015年09月01日</td>\n",
       "      <td>【客片】</td>\n",
       "    </tr>\n",
       "    <tr>\n",
       "      <th>1</th>\n",
       "      <td>1440552579</td>\n",
       "      <td>2015年08月26日</td>\n",
       "      <td>before &amp; after.</td>\n",
       "    </tr>\n",
       "    <tr>\n",
       "      <th>2</th>\n",
       "      <td>1440431884</td>\n",
       "      <td>2015年08月24日</td>\n",
       "      <td>在路上。</td>\n",
       "    </tr>\n",
       "    <tr>\n",
       "      <th>3</th>\n",
       "      <td>1440385227</td>\n",
       "      <td>2015年08月24日</td>\n",
       "      <td>看看我的D600的cmos有多脏，基本没救了。</td>\n",
       "    </tr>\n",
       "    <tr>\n",
       "      <th>4</th>\n",
       "      <td>1440301279</td>\n",
       "      <td>2015年08月23日</td>\n",
       "      <td>想象力不够，只能做到这一步。</td>\n",
       "    </tr>\n",
       "  </tbody>\n",
       "</table>\n",
       "</div>"
      ],
      "text/plain": [
       "    unix_time         time                     text\n",
       "0  1441077656  2015年09月01日                     【客片】\n",
       "1  1440552579  2015年08月26日          before & after.\n",
       "2  1440431884  2015年08月24日                     在路上。\n",
       "3  1440385227  2015年08月24日  看看我的D600的cmos有多脏，基本没救了。\n",
       "4  1440301279  2015年08月23日           想象力不够，只能做到这一步。"
      ]
     },
     "execution_count": 2,
     "metadata": {},
     "output_type": "execute_result"
    }
   ],
   "source": [
    "colume = ['unix_time', 'time', 'text']\n",
    "data = pd.read_csv('740607982.txt', sep='\\t', names=colume)\n",
    "data.head(5)"
   ]
  },
  {
   "cell_type": "markdown",
   "metadata": {},
   "source": [
    "### 将Unix时间戳转化为time时间格式"
   ]
  },
  {
   "cell_type": "code",
   "execution_count": 3,
   "metadata": {
    "collapsed": false
   },
   "outputs": [],
   "source": [
    "ttime = data['unix_time']\n",
    "ptime = map(int, ttime)\n",
    "pptime=map(datetime.datetime.fromtimestamp,ptime)"
   ]
  },
  {
   "cell_type": "markdown",
   "metadata": {},
   "source": [
    "### 每天发布说说的时间段"
   ]
  },
  {
   "cell_type": "code",
   "execution_count": 4,
   "metadata": {
    "collapsed": false
   },
   "outputs": [
    {
     "data": {
      "image/png": "[encoded data removed]",
      "text/plain": [
       "<matplotlib.figure.Figure at 0xa875cc0>"
      ]
     },
     "metadata": {},
     "output_type": "display_data"
    }
   ],
   "source": [
    "a=[]\n",
    "for i in pptime:\n",
    "    a.append(i.hour)\n",
    "plt.figure(figsize=(12,6), dpi=100)\n",
    "h = plt.hist(a,bins=range(0,25))\n",
    "plt.axis([0,24,min(h[0])-5,max(h[0])+5])\n",
    "plt.xticks(range(0,25))\n",
    "plt.show()"
   ]
  },
  {
   "cell_type": "markdown",
   "metadata": {},
   "source": [
    "### 按月份说说频率"
   ]
  },
  {
   "cell_type": "code",
   "execution_count": 5,
   "metadata": {
    "collapsed": false
   },
   "outputs": [
    {
     "data": {
      "image/png": "[encoded data removed]",
      "text/plain": [
       "<matplotlib.figure.Figure at 0x3da9a20>"
      ]
     },
     "metadata": {},
     "output_type": "display_data"
    }
   ],
   "source": [
    "a=[]\n",
    "for i in pptime:\n",
    "    a.append(i.month)\n",
    "plt.figure(figsize=(12,6), dpi=100)    \n",
    "h = plt.hist(a,bins=range(1,14))\n",
    "plt.axis([1,12,min(h[0])-5,max(h[0])+5])\n",
    "plt.xticks(range(1,14))\n",
    "plt.show()"
   ]
  },
  {
   "cell_type": "markdown",
   "metadata": {},
   "source": [
    "### 每月里发布说说的频率"
   ]
  },
  {
   "cell_type": "code",
   "execution_count": 6,
   "metadata": {
    "collapsed": false
   },
   "outputs": [
    {
     "data": {
      "image/png": "[encoded data removed]",
      "text/plain": [
       "<matplotlib.figure.Figure at 0xc257978>"
      ]
     },
     "metadata": {},
     "output_type": "display_data"
    }
   ],
   "source": [
    "a=[]\n",
    "for i in pptime:\n",
    "    a.append(i.day)\n",
    "plt.figure(figsize=(12,6), dpi=100)\n",
    "h = plt.hist(a,bins=range(1,33))\n",
    "plt.axis([1,31,min(h[0])-2,max(h[0])+2])\n",
    "plt.xticks(range(1,33))\n",
    "plt.show()"
   ]
  },
  {
   "cell_type": "code",
   "execution_count": null,
   "metadata": {
    "collapsed": true
   },
   "outputs": [],
   "source": []
  }
 ],
 "metadata": {
  "kernelspec": {
   "display_name": "Python 2",
   "language": "python",
   "name": "python2"
  },
  "language_info": {
   "codemirror_mode": {
    "name": "ipython",
    "version": 2
   },
   "file_extension": ".py",
   "mimetype": "text/x-python",
   "name": "python",
   "nbconvert_exporter": "python",
   "pygments_lexer": "ipython2",
   "version": "2.7.11"
  }
 },
 "nbformat": 4,
 "nbformat_minor": 0
}
